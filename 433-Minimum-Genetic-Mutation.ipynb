{
 "cells": [
  {
   "cell_type": "markdown",
   "metadata": {},
   "source": [
    "# 433. Minimum Genetic Mutation\n",
    "Here is the link:https://leetcode.com/problems/minimum-genetic-mutation/description/ <br>\n",
    "Here is my first submission. I figured that we can build a graph with non-directional then find a shortest path. But I totally forgot about any algorithm of shortest path lol.Any of them ! Professor xxx, sorry but not sorry... "
   ]
  },
  {
   "cell_type": "code",
   "execution_count": 1,
   "metadata": {
    "collapsed": true
   },
   "outputs": [],
   "source": [
    "class Solution(object):\n",
    "    def minMutation(self, start, end, bank):\n",
    "        \"\"\"\n",
    "        :type start: str\n",
    "        :type end: str\n",
    "        :type bank: List[str]\n",
    "        :rtype: int\n",
    "        \"\"\" \n",
    "        full_list = [start] + bank + [end]\n",
    "        print(\"The full list is \", full_list)\n",
    "        edges = []\n",
    "        i = 0\n",
    "        while i < len(full_list) - 1:\n",
    "            j = i + 1\n",
    "            while j < len(full_list):\n",
    "                if isReachable(full_list[i], full_list[j]):\n",
    "                    edges.append((i, j))\n",
    "                j += 1\n",
    "            i += 1\n",
    "        \n",
    "    def isReachable(self, strA, strB):\n",
    "        \"\"\"\n",
    "        Check if 2 strings are 1 steps away\n",
    "        \"\"\"\n",
    "        num_diff = 0  # number of differenc\n",
    "        while i < 8 and not num_diff == 2:\n",
    "            if strA[i] != strB[i]:\n",
    "                num_diff += 1\n",
    "            i += 1\n",
    "        return (num_diff == 1)"
   ]
  },
  {
   "cell_type": "markdown",
   "metadata": {},
   "source": [
    "Here is the code that I wrote after read the text book (Introduction of Algorithms) and other people's submission <br>\n",
    "BFS is one of the must-understand, must-remember algorithms in Leet-Code. <br>\n",
    "Note that the end should be bank already <br>\n",
    "The code below uses python2 on leetcode because when it did not give me the option to choose python 3, anyway ..."
   ]
  },
  {
   "cell_type": "code",
   "execution_count": 29,
   "metadata": {},
   "outputs": [
    {
     "ename": "ModuleNotFoundError",
     "evalue": "No module named 'Queue'",
     "output_type": "error",
     "traceback": [
      "\u001b[1;31m---------------------------------------------------------------------------\u001b[0m",
      "\u001b[1;31mModuleNotFoundError\u001b[0m                       Traceback (most recent call last)",
      "\u001b[1;32m<ipython-input-29-a5372fb50646>\u001b[0m in \u001b[0;36m<module>\u001b[1;34m()\u001b[0m\n\u001b[1;32m----> 1\u001b[1;33m \u001b[1;32mimport\u001b[0m \u001b[0mQueue\u001b[0m\u001b[1;33m\u001b[0m\u001b[0m\n\u001b[0m\u001b[0;32m      2\u001b[0m \u001b[1;32mclass\u001b[0m \u001b[0mSolution\u001b[0m\u001b[1;33m(\u001b[0m\u001b[0mobject\u001b[0m\u001b[1;33m)\u001b[0m\u001b[1;33m:\u001b[0m\u001b[1;33m\u001b[0m\u001b[0m\n\u001b[0;32m      3\u001b[0m     \u001b[1;32mdef\u001b[0m \u001b[0mminMutation\u001b[0m\u001b[1;33m(\u001b[0m\u001b[0mself\u001b[0m\u001b[1;33m,\u001b[0m \u001b[0mstart\u001b[0m\u001b[1;33m,\u001b[0m \u001b[0mend\u001b[0m\u001b[1;33m,\u001b[0m \u001b[0mbank\u001b[0m\u001b[1;33m)\u001b[0m\u001b[1;33m:\u001b[0m\u001b[1;33m\u001b[0m\u001b[0m\n\u001b[0;32m      4\u001b[0m         \"\"\"\n\u001b[0;32m      5\u001b[0m         \u001b[1;33m:\u001b[0m\u001b[0mtype\u001b[0m \u001b[0mstart\u001b[0m\u001b[1;33m:\u001b[0m \u001b[0mstr\u001b[0m\u001b[1;33m\u001b[0m\u001b[0m\n",
      "\u001b[1;31mModuleNotFoundError\u001b[0m: No module named 'Queue'"
     ]
    }
   ],
   "source": [
    "import Queue\n",
    "class Solution(object):\n",
    "    def minMutation(self, start, end, bank):\n",
    "        \"\"\"\n",
    "        :type start: str\n",
    "        :type end: str\n",
    "        :type bank: List[str]\n",
    "        :rtype: int\n",
    "        \"\"\" \n",
    "        full_list = [start] + bank\n",
    "        visited_nodes = {start: 0}\n",
    "        current_node = \"\"\n",
    "        q = Queue.Queue()\n",
    "        q.put(start)\n",
    "        result = -1\n",
    "        if bank != []:\n",
    "            while not q.empty() and not visited_nodes.has_key(end):\n",
    "                current_node = q.get()\n",
    "                # print \"current node is \" + current_node \n",
    "                for node in full_list:\n",
    "                    # print \"Check to see if \" + current_node + \" and \" + node + \" are connected\"\n",
    "                    # try to get child nodes of current node\n",
    "                    if not( node == current_node or visited_nodes.has_key(node)) and self.isReachable(current_node, node): \n",
    "                        \n",
    "                        # print(\"They are connected and node \" + node + \"is put into the visited nodes list\")\n",
    "                        visited_nodes[node] = visited_nodes[current_node] + 1\n",
    "                        q.put(node)\n",
    "                    # print(\"-------------------------------\")\n",
    "            if visited_nodes.has_key(end):\n",
    "                result = visited_nodes[end]\n",
    "        return result\n",
    "                    \n",
    "        \n",
    "    def isReachable(self, strA, strB):\n",
    "        \"\"\"\n",
    "        Check if 2 strings are 1 steps away\n",
    "        \"\"\"\n",
    "        i = 0\n",
    "        num_diff = 0  # number of differenc\n",
    "        while i < 8 and not num_diff == 2:\n",
    "            if strA[i] != strB[i]:\n",
    "                num_diff += 1\n",
    "            i += 1\n",
    "        return (num_diff == 1)\n",
    "    \n",
    "        "
   ]
  },
  {
   "cell_type": "markdown",
   "metadata": {},
   "source": [
    "I am suprised that my code beats 100% percent of other submission. I think there might be some optimization of edge finding. We are using the function to iterate through all the other nodes, so, there should be a lot of duplicated use of function call to isReachable(), whcih is at line 23 in the code above. Maybe we should store the edges in matrix? (Since I don't expect the graph to be super huge)"
   ]
  },
  {
   "cell_type": "code",
   "execution_count": null,
   "metadata": {},
   "outputs": [],
   "source": []
  }
 ],
 "metadata": {
  "kernelspec": {
   "display_name": "Python 3",
   "language": "python",
   "name": "python3"
  },
  "language_info": {
   "codemirror_mode": {
    "name": "ipython",
    "version": 3
   },
   "file_extension": ".py",
   "mimetype": "text/x-python",
   "name": "python",
   "nbconvert_exporter": "python",
   "pygments_lexer": "ipython3",
   "version": "3.6.5"
  }
 },
 "nbformat": 4,
 "nbformat_minor": 2
}
