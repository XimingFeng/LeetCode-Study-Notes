{
 "cells": [
  {
   "cell_type": "markdown",
   "metadata": {},
   "source": [
    "# 433. Minimum Genetic Mutation\n",
    "Here is the link:https://leetcode.com/problems/minimum-genetic-mutation/description/ <br>\n",
    "Here is my first submission. I figured that we can build a graph with non-directional then find a shortest path. But I totally forgot about any algorithm of shortest path lol.Any of them ! Professor xxx, sorry but not sorry... "
   ]
  },
  {
   "cell_type": "code",
   "execution_count": 1,
   "metadata": {
    "collapsed": true
   },
   "outputs": [],
   "source": [
    "class Solution(object):\n",
    "    def minMutation(self, start, end, bank):\n",
    "        \"\"\"\n",
    "        :type start: str\n",
    "        :type end: str\n",
    "        :type bank: List[str]\n",
    "        :rtype: int\n",
    "        \"\"\" \n",
    "        full_list = [start] + bank + [end]\n",
    "        print(\"The full list is \", full_list)\n",
    "        edges = []\n",
    "        i = 0\n",
    "        while i < len(full_list) - 1:\n",
    "            j = i + 1\n",
    "            while j < len(full_list):\n",
    "                if isReachable(full_list[i], full_list[j]):\n",
    "                    edges.append((i, j))\n",
    "                j += 1\n",
    "            i += 1\n",
    "        \n",
    "    def isReachable(self, strA, strB):\n",
    "        \"\"\"\n",
    "        Check if 2 strings are 1 steps away\n",
    "        \"\"\"\n",
    "        num_diff = 0  # number of differenc\n",
    "        while i < 8 and not num_diff == 2:\n",
    "            if strA[i] != strB[i]:\n",
    "                num_diff += 1\n",
    "            i += 1\n",
    "        return (num_diff == 1)"
   ]
  },
  {
   "cell_type": "code",
   "execution_count": null,
   "metadata": {
    "collapsed": true
   },
   "outputs": [],
   "source": []
  }
 ],
 "metadata": {
  "kernelspec": {
   "display_name": "Python 3",
   "language": "python",
   "name": "python3"
  },
  "language_info": {
   "codemirror_mode": {
    "name": "ipython",
    "version": 3
   },
   "file_extension": ".py",
   "mimetype": "text/x-python",
   "name": "python",
   "nbconvert_exporter": "python",
   "pygments_lexer": "ipython3",
   "version": "3.6.3"
  }
 },
 "nbformat": 4,
 "nbformat_minor": 2
}
