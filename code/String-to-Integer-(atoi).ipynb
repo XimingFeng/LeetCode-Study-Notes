{
 "cells": [
  {
   "cell_type": "markdown",
   "metadata": {
    "collapsed": true
   },
   "source": [
    "# String to Integer (atoi)\n"
   ]
  },
  {
   "cell_type": "markdown",
   "metadata": {},
   "source": [
    "Website: \n",
    "https://leetcode.com/problems/string-to-integer-atoi/description/ <br>\n",
    "Here is the first submition. I used trial and error method which is inefficient af <br>\n",
    "Took me fooooooooreeeeeeeeeeeeveeeeeeeeeerrrr"
   ]
  },
  {
   "cell_type": "code",
   "execution_count": 2,
   "metadata": {},
   "outputs": [],
   "source": [
    "class Solution:\n",
    "    def myAtoi(self, str):\n",
    "        \"\"\"\n",
    "        :type str: str\n",
    "        :rtype: int\n",
    "        \"\"\"\n",
    "        is_positive = True  # is result positive\n",
    "        met_sign = False  # Has any sign be met?\n",
    "        num_started = False  # Once True, current character should be a digit\n",
    "        result = 0\n",
    "        for i in range(0, len(str)):\n",
    "            # print(\"Now we are at character \" + str[i])\n",
    "            if (str[i] == \"+\" or str[i] == \"-\") and not met_sign and not num_started:\n",
    "                is_positive = (str[i] == \"+\")\n",
    "                met_sign = True\n",
    "                num_started = True\n",
    "            elif not str[i].isdigit() and (not str[i] == \" \" or num_started):\n",
    "                break\n",
    "            elif not str[i] == \" \":\n",
    "                num_started = True\n",
    "                result = result * 10 + int(str[i])\n",
    "            # print(\"Result turned into \", result)\n",
    "        if not is_positive:\n",
    "            result *= -1\n",
    "        if result > 2 ** 31 - 1:\n",
    "            result = 2 ** 31 -1\n",
    "        elif result < -2 ** 31:\n",
    "            result =  - 2 ** 31\n",
    "        return result \n",
    "            "
   ]
  },
  {
   "cell_type": "markdown",
   "metadata": {},
   "source": [
    "Note: <br>\n",
    "   ### When iterate through str, always check if the index is out of the string or not first \n",
    "   \n",
    "This method works fine but to figure out the logic took me a lot of trial and it is very unclear when I read it again <br>\n",
    "The sequence must be [white space] + [sign] + numbers + [whatever]\n",
    "So what we can do is using while loops to detect the elements above (not nessaccery for sign because we just need one) <br>\n",
    "Here is the solution inspire by: \n",
    "https://leetcode.com/problems/string-to-integer-atoi/discuss/4654/My-simple-solution\n"
   ]
  },
  {
   "cell_type": "code",
   "execution_count": 3,
   "metadata": {},
   "outputs": [],
   "source": [
    "class Solution:\n",
    "    def myAtoi(self, str):\n",
    "        \"\"\"\n",
    "        :type str: str\n",
    "        :rtype: int\n",
    "        \"\"\"\n",
    "        i = 0\n",
    "        result = 0\n",
    "        is_positive = True\n",
    "        \n",
    "        # look for white space \n",
    "        while i < len(str) and str[i] == \" \":\n",
    "            i += 1 \n",
    "            \n",
    "        # look for sign    \n",
    "        if i < len(str) and (str[i] == \"+\" or str[i] == \"-\"):\n",
    "            is_positive = (str[i] == \"+\")\n",
    "            print(\"found sign \" + str[i])\n",
    "            i += 1 # do not forget this or it won't skip the sign\n",
    "        \n",
    "        # look for digits\n",
    "        while i < len(str) and str[i].isdigit():\n",
    "            result = result * 10 + int(str[i])\n",
    "            i += 1\n",
    "        # print(\"absolute value is \", result)\n",
    "        \n",
    "        # Check sign\n",
    "        if not is_positive:\n",
    "            result *= -1\n",
    "        \n",
    "        # Check overflow\n",
    "        if result > 2 ** 31 - 1:\n",
    "            result = 2 ** 31 - 1\n",
    "        elif result < - 2 ** 31:\n",
    "            result = - 2 ** 31\n",
    "        return result "
   ]
  },
  {
   "cell_type": "markdown",
   "metadata": {},
   "source": [
    "We can also check overflow in the digit checking loop. We can try it later"
   ]
  },
  {
   "cell_type": "code",
   "execution_count": null,
   "metadata": {},
   "outputs": [],
   "source": []
  }
 ],
 "metadata": {
  "kernelspec": {
   "display_name": "Python 3",
   "language": "python",
   "name": "python3"
  },
  "language_info": {
   "codemirror_mode": {
    "name": "ipython",
    "version": 3
   },
   "file_extension": ".py",
   "mimetype": "text/x-python",
   "name": "python",
   "nbconvert_exporter": "python",
   "pygments_lexer": "ipython3",
   "version": "3.6.5"
  }
 },
 "nbformat": 4,
 "nbformat_minor": 1
}
